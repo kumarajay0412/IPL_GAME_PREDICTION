{
  "nbformat": 4,
  "nbformat_minor": 0,
  "metadata": {
    "colab": {
      "name": "DreamTeam.ipynb",
      "provenance": [],
      "collapsed_sections": []
    },
    "kernelspec": {
      "name": "python3",
      "display_name": "Python 3"
    },
    "language_info": {
      "name": "python"
    }
  },
  "cells": [
    {
      "cell_type": "code",
      "metadata": {
        "id": "vb5jLnVMqA-h",
        "colab": {
          "base_uri": "https://localhost:8080/"
        },
        "outputId": "16669295-69f6-458a-f30e-de4d2372339f"
      },
      "source": [
        "#importing the required header files\n",
        "\n",
        "import numpy as np\n",
        "import matplotlib.pyplot as plt\n",
        "import pandas as pd\n",
        "\n",
        "\n",
        "from google.colab import drive\n",
        "drive.mount('/content/drive')\n",
        "%cd /content/drive/MyDrive/ML_project"
      ],
      "execution_count": 59,
      "outputs": [
        {
          "output_type": "stream",
          "name": "stdout",
          "text": [
            "Drive already mounted at /content/drive; to attempt to forcibly remount, call drive.mount(\"/content/drive\", force_remount=True).\n",
            "/content/drive/MyDrive/ML_project\n"
          ]
        }
      ]
    },
    {
      "cell_type": "code",
      "metadata": {
        "id": "tSwzRpzAqFkZ"
      },
      "source": [
        "df = pd.read_csv(\"BBB.csv\")\n",
        "df"
      ],
      "execution_count": null,
      "outputs": []
    },
    {
      "cell_type": "code",
      "metadata": {
        "id": "pJMvjsKgqNmy"
      },
      "source": [
        "run=\"Total_Runs\"\n",
        "b=\"Total_Boundries\"\n",
        "sr=\"Striker_Rate\"\n",
        "avg=\"Average\"\n",
        "w=\"Wickets\"\n",
        "eco=\"Economy\"\n",
        "wc=\"Wickets_over\"\n",
        "c=\"Catches\"\n",
        "s=\"Stumped\"\n",
        "bf=\"Balls_Faced\"\n",
        "mp=\"Matched_played\"\n",
        "rt=\"Run_Given\"\n",
        "balld=\"balld\"\n",
        "\n",
        "\n",
        "data={'Anurag':{run:0,b:0,sr:0,avg:0,w:0,eco:0,wc:0,c:0,s:0,bf:0,mp:0,rt:0,balld:0}}\n",
        "temp={run:0,b:0,sr:0,avg:0,w:0,eco:0,wc:0,c:0,s:0,bf:0,mp:0,rt:0,balld:0}\n",
        "\n",
        "\n",
        "for i in range(len(df)):\n",
        "  key1=df.loc[i][4]\n",
        "  key2=df.loc[i][6]\n",
        "  key3=df.loc[i][13]\n",
        "  key4=df.loc[i][14]\n",
        "  temp={run:0,b:0,sr:0,avg:0,w:0,eco:0,wc:0,c:0,s:0,bf:0,mp:0,rt:0,balld:0}\n",
        "  if key1 in data.keys():\n",
        "    if df.loc[i][7]==6 or df.loc[i][7]==4:\n",
        "      data[key1][b]+=1\n",
        "      data[key1][run]+=df.loc[i][7]\n",
        "    else:\n",
        "      data[key1][run]+=df.loc[i][7]\n",
        "\n",
        "    data[key1][bf]+=1\n",
        "    \n",
        "  else:\n",
        "    data.update({key1:temp})\n",
        "    if df.loc[i][7]==6 or df.loc[i][7]==4:\n",
        "      data[key1][b]+=1\n",
        "      data[key1][run]+=df.loc[i][7]\n",
        "    else:\n",
        "      data[key1][run]+=df.loc[i][7]\n",
        "\n",
        "    data[key1][bf]+=1\n",
        "\n",
        "  if key2 in data.keys():\n",
        "    data[key2][rt]+=df.loc[i][9]\n",
        "  else:\n",
        "    data.update({key2:temp})\n",
        "    data[key2][rt]+=df.loc[i][9]\n",
        "    if df.loc[i][11]==1:\n",
        "      data[key2][w]+=1\n",
        "      if df.loc[i][12]==\"caught\" or df.loc[i][12]==\"stumped\":\n",
        "        if key4 in data.keys():\n",
        "          if df.loc[i][12]==\"caught\":\n",
        "             data[key4][c]+=1\n",
        "          else:\n",
        "            data[key4][s]+=1\n",
        "        else:\n",
        "          data.update({key4:temp})\n",
        "          if df.loc[i][12]==\"caught\":\n",
        "             data[key4][c]+=1\n",
        "          else:\n",
        "            data[key4][s]+=1\n",
        "\n",
        "\n",
        "\n",
        "\n",
        "data.pop('Anurag')\n",
        "data\n",
        "\n",
        "\n",
        "\n",
        "\n"
      ],
      "execution_count": null,
      "outputs": []
    },
    {
      "cell_type": "code",
      "metadata": {
        "id": "1Ux0DN7wrdXg"
      },
      "source": [
        "#########     BY YASH    ###############\n",
        "##calculation of economy,strike rate and wickets/over\n",
        "\n",
        "for i in range(len(df)):\n",
        "  key=df.loc[i][6]\n",
        "  data[key][balld]+=1\n",
        "\n",
        "\n",
        "for key in data:\n",
        "  if data[key][balld]!=0:\n",
        "    data[key][eco]=data[key][rt]/(data[key][balld]/6)\n",
        "    data[key][wc]=data[key][w]/(data[key][balld]/6)\n",
        "  if data[key][bf]!=0:\n",
        "    data[key][sr]=(data[key][run]/data[key][bf])*100"
      ],
      "execution_count": null,
      "outputs": []
    },
    {
      "cell_type": "code",
      "metadata": {
        "id": "43P71c7RuJim"
      },
      "source": [
        "data"
      ],
      "execution_count": null,
      "outputs": []
    },
    {
      "cell_type": "code",
      "metadata": {
        "id": "Msl211PWLiE1"
      },
      "source": [
        "data['YA Abdulla']['Striker_Rate']"
      ],
      "execution_count": null,
      "outputs": []
    },
    {
      "cell_type": "code",
      "metadata": {
        "id": "3JVF5CcrqRs9"
      },
      "source": [
        "score={'Anurag':0}\n",
        "for key in data.keys():\n",
        "  if key==\"V Sehwag\" or key==\"MS Dhoni\" or key==\"V Kohli\" or key==\"SK Raina\":\n",
        "    score.update({key:data[key][run]})\n",
        "score.pop('Anurag')\n",
        "names = list(score.keys())\n",
        "values = list(score.values())\n",
        "\n",
        "plt.bar(range(len(score)), values, tick_label=names)\n",
        "plt.show()"
      ],
      "execution_count": null,
      "outputs": []
    },
    {
      "cell_type": "code",
      "metadata": {
        "id": "5kI0lwSapk3s"
      },
      "source": [
        "score1={'Anurag':0}\n",
        "for key in data.keys():\n",
        "  if key==\"BB McCullum\" or key==\"R Dravid\" or key==\"V Kohli\" or key==\"S Dhawan\":\n",
        "    score1.update({key:data[key][sr]})\n",
        "score1.pop('Anurag')\n",
        "names = list(score1.keys())\n",
        "values = list(score1.values())\n",
        "\n",
        "plt.bar(range(len(score1)), values, tick_label=names)\n",
        "plt.show()"
      ],
      "execution_count": null,
      "outputs": []
    },
    {
      "cell_type": "code",
      "metadata": {
        "id": "i6jsGD7TqTeF"
      },
      "source": [
        "match_data = pd.read_csv(\"MBM.csv\")\n",
        "match_data"
      ],
      "execution_count": null,
      "outputs": []
    },
    {
      "cell_type": "code",
      "metadata": {
        "id": "CVKVOTrNrpW9"
      },
      "source": [
        "teamwin={'null':0}\n",
        "matchwinTeam={0:'anurag'}\n",
        "for i in range(len(match_data)):\n",
        "  key=match_data.loc[i][10]\n",
        "  matchwinTeam.update({match_data.loc[i][0]:key})\n",
        "\n",
        "  if key in teamwin:\n",
        "    teamwin[key]+=1\n",
        "  else:\n",
        "    teamwin.update({key:1})\n",
        "teamwin.pop('null')\n",
        "names = list(teamwin.keys())\n",
        "values = list(teamwin.values())\n",
        "fig = plt.figure(figsize = (30, 10))\n",
        "plt.bar(range(len(teamwin)), values, tick_label=names)\n",
        "#plt.figsize=(20,10)\n",
        "plt.show()\n"
      ],
      "execution_count": null,
      "outputs": []
    },
    {
      "cell_type": "code",
      "metadata": {
        "id": "wkaD10_is-Dj"
      },
      "source": [
        "teamwinbyrun={'null':0}\n",
        "for i in range(len(match_data)):\n",
        "  key=match_data.loc[i][11]\n",
        "  if key in teamwinbyrun:\n",
        "    teamwinbyrun[key]+=1\n",
        "  else:\n",
        "    teamwinbyrun.update({key:1})\n",
        "teamwinbyrun.pop('null')\n",
        "names = list(teamwinbyrun.keys())\n",
        "values = list(teamwinbyrun.values())\n",
        "fig = plt.figure(figsize = (30, 10))\n",
        "plt.bar(range(len(teamwinbyrun)), values, tick_label=names)\n",
        "#plt.figsize=(20,10)\n",
        "plt.show()"
      ],
      "execution_count": null,
      "outputs": []
    },
    {
      "cell_type": "code",
      "metadata": {
        "id": "ANPVUt6yqVEq"
      },
      "source": [
        "print(match_data.loc[3][2][:4])\n",
        "\n",
        "match_per_year={\"2\":0}\n",
        "prev='1'\n",
        "for i in range(len(match_data)):\n",
        "  curr=match_data.loc[i][2][:4]\n",
        "  if(curr==prev):\n",
        "    match_per_year[curr]+=1\n",
        "  else:\n",
        "    match_per_year.update({curr:1})\n",
        "    prev=curr\n",
        "\n",
        "match_per_year.pop('2')\n",
        "\n",
        "#print(match_per_year)\n",
        "\n",
        "names = list(match_per_year.keys())\n",
        "values = list(match_per_year.values())\n",
        "#fig = plt.figure(figsize = (20, 10))\n",
        "\n",
        "plt.bar(range(len(match_per_year)), values, tick_label=names)\n",
        "#plt.figsize=(20,10)\n",
        "plt.show()"
      ],
      "execution_count": null,
      "outputs": []
    },
    {
      "cell_type": "code",
      "metadata": {
        "id": "lvlt7eKMqWpS"
      },
      "source": [
        "# pitch # bat -win loss\n",
        "# teams # toss win match win\n",
        "\n",
        "#t=toss\n",
        "#l=loss\n",
        "#w=win\n",
        "#m=match\n",
        "\n",
        "pitch={'anurag':{'win':0,'loss':0}}\n",
        "team={'anurag':{'twmw':0,'twml':0,'tlml':0,'tlmw':0,'tw':0}}\n",
        "\n",
        "for i in range(0,len(match_data)):\n",
        "  temp1={'win':0,'loss':0}\n",
        "  key=match_data.loc[i][4]\n",
        "  if key in pitch:\n",
        "    if match_data.loc[i][8]==match_data.loc[i][10]:\n",
        "      if match_data.loc[i][9]=='field':\n",
        "        pitch[key]['loss']+=1\n",
        "      else:\n",
        "        pitch[key]['win']+=1\n",
        "\n",
        "    else:\n",
        "      if match_data.loc[i][9]=='field':\n",
        "        pitch[key]['win']+=1\n",
        "      else:\n",
        "        pitch[key]['loss']+=1\n",
        "  else:\n",
        "    pitch.update({key:temp1})\n",
        "    if match_data.loc[i][8]==match_data.loc[i][10]:\n",
        "      if match_data.loc[i][9]=='field':\n",
        "        pitch[key]['loss']+=1\n",
        "      else:\n",
        "        pitch[key]['win']+=1\n",
        "\n",
        "    else:\n",
        "      if match_data.loc[i][9]=='field':\n",
        "        pitch[key]['win']+=1\n",
        "      else:\n",
        "        pitch[key]['loss']+=1\n",
        "\n",
        "\n",
        "pitch.pop('anurag')\n",
        "\n",
        "\n"
      ],
      "execution_count": null,
      "outputs": []
    },
    {
      "cell_type": "code",
      "metadata": {
        "id": "_1enkVEVqYNi"
      },
      "source": [
        "for i in range(0,len(match_data)):\n",
        "  temp2={'twmw':0,'twml':0,'tlml':0,'tlmw':0,'tw':0}\n",
        "  key1=match_data.loc[i][8]\n",
        "  key2=match_data.loc[i][10]\n",
        "  key3=\"1\"\n",
        "  if key1==match_data.loc[i][6]:\n",
        "    key3=match_data.loc[i][7]\n",
        "  else:\n",
        "    key3=match_data.loc[i][6]\n",
        "\n",
        "\n",
        "  if key1 in team:\n",
        "    team[key1]['tw']+=1\n",
        "    if key1==key2:\n",
        "      team[key1]['twmw']+=1\n",
        "    else:\n",
        "      team[key1]['twml']+=1\n",
        "\n",
        "  else:\n",
        "    team.update({key1:temp2})\n",
        "    team[key1]['tw']+=1\n",
        "    if key1==key2:\n",
        "      team[key1]['twmw']+=1\n",
        "    else:\n",
        "      team[key1]['twml']+=1\n",
        "\n",
        "\n",
        "  if key3 in team:\n",
        "    team[key3]['tw']+=0\n",
        "    if key3==key2:\n",
        "      team[key3]['tlmw']+=1\n",
        "    else:\n",
        "      team[key3]['tlml']+=1\n",
        "\n",
        "  else:\n",
        "    team.update({key3:temp2})\n",
        "    team[key3]['tw']+=0\n",
        "    if key3==key2:\n",
        "      team[key3]['tlmw']+=1\n",
        "    else:\n",
        "      team[key3]['tlml']+=1\n",
        "\n",
        "team.pop('anurag')\n",
        "team\n",
        "    \n",
        "\n",
        "  "
      ],
      "execution_count": null,
      "outputs": []
    },
    {
      "cell_type": "code",
      "metadata": {
        "id": "RQFpHSySqbJq"
      },
      "source": [
        "teamtoss={'anurag':0}\n",
        "for key in team.keys():\n",
        "  key1=team[key]['tw']\n",
        "  teamtoss.update({key:key1})\n",
        "\n",
        "teamtoss.pop('anurag')\n",
        "\n",
        "names = list(teamtoss.keys())\n",
        "values = list(teamtoss.values())\n",
        "fig = plt.figure(figsize = (40, 5))\n",
        "\n",
        "plt.bar(range(len(teamtoss)), values, tick_label=names)\n",
        "#plt.figsize=(20,10)\n",
        "plt.show()\n"
      ],
      "execution_count": null,
      "outputs": []
    },
    {
      "cell_type": "code",
      "metadata": {
        "id": "ubHWGh9kqcx_"
      },
      "source": [
        "# Players played in that match\n",
        "# 1. team1 :{}  team2:{}\n",
        "\n",
        "# key1 =batting\n",
        "# key2 =bowling\n",
        "#until key1 & key2 are completely different \n",
        "\n",
        "playerTeam={0:{\"team1\":{\"anu\",\"yash\"},\"team2\":{\"anu1\",\"yash1\"}}}\n",
        "cnt=335982\n",
        "preva='aaa'\n",
        "prevb='aa'\n",
        "\n",
        "for i in range(0,len(df)):\n",
        "  \n",
        "  key1=df.loc[i][16]\n",
        "\n",
        "  key2=df.loc[i][17]\n",
        "  cnt=df.loc[i][0]\n",
        "  if cnt in playerTeam:\n",
        "    preva='a'\n",
        "  else:\n",
        "    temp4={key1:{\"null\"},key2:{\"null\"}}\n",
        "    playerTeam.update({cnt:temp4})\n",
        "    cnt=df.loc[i][0]\n",
        "    preva=key1\n",
        "    prevb=key2\n",
        "\n",
        "  bat1=df.loc[i][4]\n",
        "  bat2=df.loc[i][5]\n",
        "  bowler=df.loc[i][6]\n",
        "  \n",
        "\n",
        "  playerTeam[cnt][key1].add(bat1)\n",
        "  playerTeam[cnt][key1].add(bat2)\n",
        "  playerTeam[cnt][key2].add(bowler)\n",
        "  \n",
        "\n",
        "\n",
        "\n",
        "print(df.loc[0][16])"
      ],
      "execution_count": null,
      "outputs": []
    },
    {
      "cell_type": "code",
      "metadata": {
        "id": "tvoQbddmy910"
      },
      "source": [
        "print(df.loc[0][4])\n",
        "playerTeam\n"
      ],
      "execution_count": null,
      "outputs": []
    },
    {
      "cell_type": "code",
      "metadata": {
        "id": "PX-4EPs7A3AE"
      },
      "source": [
        "pip install seaborn"
      ],
      "execution_count": null,
      "outputs": []
    },
    {
      "cell_type": "code",
      "metadata": {
        "id": "k0mGlPhXAc8k"
      },
      "source": [
        "df.hist(figsize=(16, 20), bins=50, xlabelsize=8, ylabelsize=8)\n"
      ],
      "execution_count": null,
      "outputs": []
    },
    {
      "cell_type": "code",
      "metadata": {
        "id": "h8SUJ3ppAkPL"
      },
      "source": [
        "import seaborn as sns\n",
        "fig, ax = plt.subplots(figsize=(35,35))\n",
        "sns.heatmap(df.corr(),linecolor='white',linewidths=1,cmap='magma',annot=True)\n"
      ],
      "execution_count": null,
      "outputs": []
    },
    {
      "cell_type": "code",
      "metadata": {
        "id": "QdDshl6jDSZy"
      },
      "source": [
        "sns.pairplot(df,diag_kind=\"hist\")"
      ],
      "execution_count": null,
      "outputs": []
    },
    {
      "cell_type": "code",
      "metadata": {
        "id": "2lABWVrFhi-3"
      },
      "source": [
        "fig, ax = plt.subplots(figsize=(35,35))\n",
        "sns.heatmap(match_data.corr(),linecolor='white',linewidths=1,cmap='magma',annot=True)"
      ],
      "execution_count": null,
      "outputs": []
    },
    {
      "cell_type": "code",
      "metadata": {
        "id": "D0eUbbtHhfh-"
      },
      "source": [
        "sns.pairplot(match_data,diag_kind=\"hist\")"
      ],
      "execution_count": null,
      "outputs": []
    },
    {
      "cell_type": "code",
      "metadata": {
        "id": "8tiVmMY-bK77"
      },
      "source": [
        "df_batsman_runs = df.groupby('batsman')['batsman_runs'].sum().sort_values(ascending=False)\n",
        "df_batsman_runs"
      ],
      "execution_count": null,
      "outputs": []
    },
    {
      "cell_type": "code",
      "metadata": {
        "id": "P6z_qFoKbcIn"
      },
      "source": [
        "MatchCountGroupBy = df.groupby(['batsman','id']).count().reset_index()\n",
        "totalMatchesPlayed = MatchCountGroupBy.groupby(['batsman'])['inning'].count()\n",
        "totalMatchesPlayed\n"
      ],
      "execution_count": null,
      "outputs": []
    },
    {
      "cell_type": "code",
      "metadata": {
        "id": "dKJUFfKZbdPc"
      },
      "source": [
        "Average = df_batsman_runs/totalMatchesPlayed\n",
        "Average.sort_values(ascending=False)\n"
      ],
      "execution_count": null,
      "outputs": []
    },
    {
      "cell_type": "code",
      "metadata": {
        "id": "Z6UKau9yTsBd"
      },
      "source": [
        "if 'P Amarnath' not in Average:\n",
        "  print(\"1\")\n",
        "#print(Average['P Amarnath'])"
      ],
      "execution_count": null,
      "outputs": []
    },
    {
      "cell_type": "code",
      "metadata": {
        "id": "MPfcJBI4LAxf"
      },
      "source": [
        "morewin=0\n",
        "TeamWiseStats={}\n",
        "TeamWiseAvg={}\n",
        "total1=0\n",
        "for teamN,key1 in playerTeam.items():\n",
        "  if teamN==0:\n",
        "    continue\n",
        "  total1+=1\n",
        "  sr1=0\n",
        "  sr11='a'\n",
        "  sr2=0\n",
        "  sr22='a'\n",
        "  a1=0\n",
        "  a2=0\n",
        "  \n",
        "  for teamN1,key2 in key1.items():\n",
        "    sr=0\n",
        "    tt=0\n",
        "    a=0\n",
        "    for z in key2:\n",
        "      if z=='null':\n",
        "        continue\n",
        "      sr+=data[z]['Striker_Rate']\n",
        "      if z not in Average:\n",
        "        a+=0\n",
        "      else:\n",
        "        a+=Average[z]\n",
        "      tt+=1\n",
        "    if sr1==0:\n",
        "      sr1=sr/tt\n",
        "      sr11=teamN1\n",
        "      a1=a/tt\n",
        "    else:\n",
        "      sr2=sr/tt\n",
        "      sr22=teamN1\n",
        "      a2=a/tt\n",
        "\n",
        "\n",
        "  y=matchwinTeam[teamN]\n",
        "  if sr11 in TeamWiseStats.keys():\n",
        "    TeamWiseStats[sr11]+=sr1\n",
        "  else:\n",
        "    TeamWiseStats.update({sr11:sr1})\n",
        "  if sr22 in TeamWiseStats.keys():\n",
        "    TeamWiseStats[sr22]+=sr2\n",
        "  else:\n",
        "    TeamWiseStats.update({sr22:sr2})\n",
        "\n",
        "  if sr11 in TeamWiseAvg.keys():\n",
        "    TeamWiseAvg[sr11]+=a1\n",
        "  else:\n",
        "    TeamWiseAvg.update({sr11:a1})\n",
        "  if sr22 in TeamWiseAvg.keys():\n",
        "    TeamWiseAvg[sr22]+=a2\n",
        "  else:\n",
        "    TeamWiseAvg.update({sr22:a2})\n",
        "\n",
        "\n",
        "  z=sr11\n",
        "  srf1=(sr1*(1/3)+a1*(2/3))\n",
        "  srf2=(sr2*(1/3)+a2*(2/3))\n",
        "  if srf2>srf1:\n",
        "    z=sr22\n",
        "\n",
        "  if y==z:\n",
        "    morewin+=1;\n",
        "\n",
        "\n",
        "print(morewin)\n",
        "print(total1)\n",
        "labels = ['Win','Lost']\n",
        "  \n",
        "dat1 = [morewin,total1-morewin]\n",
        "colors=['blue','orange']\n",
        "\n",
        "fig = plt.figure(figsize =(10, 7))\n",
        "#plt.pie(data, labels = cars)\n",
        "\n",
        "plt.pie(dat1,labels=labels, colors=colors, startangle=90, shadow=True,explode=(0.1, 0.1), autopct='%0.8f%%')\n",
        "\n",
        "for a,b in TeamWiseAvg.items():\n",
        "  if b<50:\n",
        "    TeamWiseAvg.pop(a)\n",
        "    break\n",
        "\n",
        "for a,b in TeamWiseStats.items():\n",
        "  if b<400:\n",
        "    TeamWiseStats.pop(a)\n",
        "    break"
      ],
      "execution_count": null,
      "outputs": []
    },
    {
      "cell_type": "code",
      "metadata": {
        "id": "whLLdpoJba5M"
      },
      "source": [
        "import plotly\n",
        "import plotly.express as px\n",
        "import plotly.graph_objs as go\n",
        "from plotly.offline import init_notebook_mode, plot, iplot\n",
        "from plotly import tools"
      ],
      "execution_count": null,
      "outputs": []
    },
    {
      "cell_type": "code",
      "metadata": {
        "id": "LyQYL_hNbgcy"
      },
      "source": [
        "tossW=match_data['toss_winner'].value_counts()\n",
        "fig = px.bar(tossW, y=tossW,x=tossW.index,labels=dict(x=\"Teams\",y=\"Count\"))\n",
        "fig.update_layout(title=\"No. of tosses won by each team\",titlefont={'size': 26})\n",
        "fig.update_traces(marker_line_color='black', marker_line_width=2.5, opacity=1)\n",
        "fig.show()"
      ],
      "execution_count": null,
      "outputs": []
    },
    {
      "cell_type": "code",
      "metadata": {
        "id": "ImbOrSGadMyk"
      },
      "source": [
        "twinner=match_data['toss_decision'].value_counts()\n",
        "fig = go.Figure(data=[go.Pie(labels=['field','Bat'],values=twinner)])\n",
        "fig.update_layout(title=\"Tosses Decision\",titlefont={'size': 26})\n",
        "fig.update_traces(hoverinfo='label+percent', textinfo='value', textfont_size=20,marker=dict(colors=colors, line=dict(color='#000000', width=2)))\n",
        "#fig = go.Figure(data=[go.Pie(labels=labels, values=values)])\n",
        "fig.show()"
      ],
      "execution_count": null,
      "outputs": []
    },
    {
      "cell_type": "code",
      "metadata": {
        "id": "F6uR5gV2h_9Z"
      },
      "source": [
        "tossWinMatchWin=0\n",
        "tossWinMatchLoss=0\n",
        "for key1 in team.values():\n",
        "  tossWinMatchWin+=key1['twmw']\n",
        "  tossWinMatchLoss+=key1['twml']\n",
        "\n",
        "fig = go.Figure(data=[go.Pie(labels=['Win','Lost'],values=[tossWinMatchWin,tossWinMatchLoss])])\n",
        "fig.update_layout(title=\"Toss Win Match Result\",titlefont={'size': 26})\n",
        "fig.update_traces(hoverinfo='label+percent', textinfo='value', textfont_size=20,marker=dict(colors=colors, line=dict(color='#000000', width=2)))\n",
        "#fig = go.Figure(data=[go.Pie(labels=labels, values=values)])\n",
        "fig.show()"
      ],
      "execution_count": null,
      "outputs": []
    },
    {
      "cell_type": "code",
      "metadata": {
        "id": "jxf6ccbp0D2Q"
      },
      "source": [
        "team_1 = match_data['team1'].groupby(match_data['team1']).agg('count')\n",
        "team_2 = match_data['team2'].groupby(match_data['team2']).agg('count')\n",
        "total_matches=team_1+team_2\n",
        "total_matches=total_matches.sort_values(ascending=False)\n",
        "total_matches"
      ],
      "execution_count": null,
      "outputs": []
    },
    {
      "cell_type": "code",
      "metadata": {
        "id": "gnfPiB8tjZuL"
      },
      "source": [
        "xTeamWiseStats=[]\n",
        "yTeamWiseStats=[]\n",
        "\n",
        "\n",
        "\n",
        "for a,b in TeamWiseStats.items():\n",
        "  if b==201.95757996686444:\n",
        "    continue\n",
        "  z=total_matches[a]\n",
        "  \n",
        "  xTeamWiseStats.append(a)\n",
        "  yTeamWiseStats.append(b/z)\n",
        "  \n",
        "#print(TeamWiseStats)\n",
        "\n",
        "fig = go.Figure(go.Scatter(\n",
        "    x = xTeamWiseStats,\n",
        "    y = yTeamWiseStats\n",
        "))\n",
        "\n",
        "fig.update_layout(title=\"Strike Rate\",titlefont={'size': 26})\n",
        "#fig.update_traces(hoverinfo='label+percent', textinfo='value', textfont_size=20,marker=dict(colors=colors, line=dict(color='#000000', width=2)))\n",
        "#fig = go.Figure(data=[go.Pie(labels=labels, values=values)])\n",
        "\n",
        "fig.show()\n",
        "\n"
      ],
      "execution_count": null,
      "outputs": []
    },
    {
      "cell_type": "code",
      "metadata": {
        "id": "2yHxAylC4yrp"
      },
      "source": [
        "import math"
      ],
      "execution_count": null,
      "outputs": []
    },
    {
      "cell_type": "code",
      "metadata": {
        "id": "Dbks1Uia1uPc"
      },
      "source": [
        "xTeamWiseStats=[]\n",
        "yTeamWiseStats=[]\n",
        "\n",
        "\n",
        "\n",
        "for a,b in TeamWiseAvg.items():\n",
        "  if b==21.09599462376618:\n",
        "    continue\n",
        "  z=total_matches[a]\n",
        "  \n",
        "  xTeamWiseStats.append(a)\n",
        "  yTeamWiseStats.append(b/z)\n",
        "  \n",
        "#print(TeamWiseStats)\n",
        "\n",
        "fig = go.Figure(go.Scatter(\n",
        "    x = xTeamWiseStats,\n",
        "    y = yTeamWiseStats\n",
        "))\n",
        "\n",
        "fig.update_layout(title=\"Average\",titlefont={'size': 26})\n",
        "#fig.update_traces(hoverinfo='label+percent', textinfo='value', textfont_size=20,marker=dict(colors=colors, line=dict(color='#000000', width=2)))\n",
        "#fig = go.Figure(data=[go.Pie(labels=labels, values=values)])\n",
        "\n",
        "fig.show()\n",
        "\n"
      ],
      "execution_count": null,
      "outputs": []
    },
    {
      "cell_type": "code",
      "metadata": {
        "id": "ziMan9Pl5L1j"
      },
      "source": [
        "morewin=0\n",
        "TeamWiseEco={}\n",
        "total1=0\n",
        "for teamN,key1 in playerTeam.items():\n",
        "  if teamN==0:\n",
        "    continue\n",
        "  total1+=1\n",
        "  sr1=0\n",
        "  sr11='a'\n",
        "  sr2=0\n",
        "  sr22='a'\n",
        "  a1=0\n",
        "  a2=0\n",
        "  \n",
        "  for teamN1,key2 in key1.items():\n",
        "    sr=0\n",
        "    tt=0\n",
        "    a=0\n",
        "    for z in key2:\n",
        "      if z=='null':\n",
        "        continue\n",
        "      sr+=data[z]['Economy']\n",
        "      tt+=1\n",
        "      \n",
        "    if sr1==0:\n",
        "      sr1=sr/tt\n",
        "      sr11=teamN1\n",
        "      \n",
        "    else:\n",
        "      sr2=sr/tt\n",
        "      sr22=teamN1\n",
        "    # print(sr1)\n",
        "    # print(sr2)\n",
        "\n",
        "\n",
        "  y=matchwinTeam[teamN]\n",
        "  if sr11 in TeamWiseEco.keys():\n",
        "    TeamWiseEco[sr11]+=sr1\n",
        "  else:\n",
        "    TeamWiseEco.update({sr11:sr1})\n",
        "  if sr22 in TeamWiseEco.keys():\n",
        "    TeamWiseEco[sr22]+=sr2\n",
        "  else:\n",
        "    TeamWiseEco.update({sr22:sr2})\n",
        "\n",
        "  \n",
        "\n",
        "\n",
        "  z=sr11\n",
        "  srf1=(sr1)\n",
        "  srf2=(sr2)\n",
        "  if srf2<srf1:\n",
        "    z=sr22\n",
        "\n",
        "  if y==z:\n",
        "    morewin+=1;\n",
        "\n",
        "\n",
        "print(morewin)\n",
        "print(total1)\n",
        "labels = ['Lost','win']\n",
        "  \n",
        "dat1 = [morewin,total1-morewin]\n",
        "colors=['blue','orange']\n",
        "\n",
        "fig = plt.figure(figsize =(10, 7))\n",
        "#plt.pie(data, labels = cars)\n",
        "\n",
        "plt.pie(dat1,labels=labels, colors=colors, startangle=90, shadow=True,explode=(0.1, 0.1), autopct='%0.8f%%')\n",
        "\n",
        "for a,b in TeamWiseEco.items():\n",
        "  if b<50:\n",
        "    TeamWiseEco.pop(a)\n",
        "    break  "
      ],
      "execution_count": null,
      "outputs": []
    },
    {
      "cell_type": "code",
      "metadata": {
        "id": "u7rhEZdy6ePh"
      },
      "source": [
        "xTeamWiseStats=[]\n",
        "yTeamWiseStats=[]\n",
        "print(TeamWiseEco)\n",
        "\n",
        "\n",
        "for a,b in TeamWiseEco.items():\n",
        "  \n",
        "  print(a)\n",
        "  print(b)\n",
        "  if b==15.254587309846698:\n",
        "    continue\n",
        "  z=total_matches[a]\n",
        "  \n",
        "  xTeamWiseStats.append(a)\n",
        "  yTeamWiseStats.append(b/z)\n",
        "  \n",
        "#print(TeamWiseStats)\n",
        "\n",
        "fig = go.Figure(go.Scatter(\n",
        "    x = xTeamWiseStats,\n",
        "    y = yTeamWiseStats\n",
        "))\n",
        "\n",
        "fig.update_layout(title=\"Economy\",titlefont={'size': 26})\n",
        "\n",
        "fig.show()\n",
        "\n"
      ],
      "execution_count": null,
      "outputs": []
    },
    {
      "cell_type": "code",
      "metadata": {
        "id": "s0QjBHnfE1oh"
      },
      "source": [
        "morewin=0\n",
        "TeamWiseEco={}\n",
        "total1=0\n",
        "for teamN,key1 in playerTeam.items():\n",
        "  if teamN==0:\n",
        "    continue\n",
        "  total1+=1\n",
        "  sr1=0\n",
        "  sr11='a'\n",
        "  sr2=0\n",
        "  sr22='a'\n",
        "  a1=0\n",
        "  a2=0\n",
        "  \n",
        "  for teamN1,key2 in key1.items():\n",
        "    sr=0\n",
        "    tt=0\n",
        "    a=0\n",
        "    for z in key2:\n",
        "      if z=='null':\n",
        "        continue\n",
        "      sr+=data[z]['Wickets_over']\n",
        "      tt+=1\n",
        "      \n",
        "    if sr1==0:\n",
        "      sr1=sr/tt\n",
        "      sr11=teamN1\n",
        "      \n",
        "    else:\n",
        "      sr2=sr/tt\n",
        "      sr22=teamN1\n",
        "    # print(sr1)\n",
        "    # print(sr2)\n",
        "\n",
        "\n",
        "  y=matchwinTeam[teamN]\n",
        "  if sr11 in TeamWiseEco.keys():\n",
        "    TeamWiseEco[sr11]+=sr1\n",
        "  else:\n",
        "    TeamWiseEco.update({sr11:sr1})\n",
        "  if sr22 in TeamWiseEco.keys():\n",
        "    TeamWiseEco[sr22]+=sr2\n",
        "  else:\n",
        "    TeamWiseEco.update({sr22:sr2})\n",
        "\n",
        "  \n",
        "\n",
        "\n",
        "  z=sr11\n",
        "  srf1=(sr1)\n",
        "  srf2=(sr2)\n",
        "  if srf2>srf1:\n",
        "    z=sr22\n",
        "\n",
        "  if y==z:\n",
        "    morewin+=1;\n",
        "\n",
        "\n",
        "print(morewin)\n",
        "print(total1)\n",
        "labels = ['win','Lost']\n",
        "  \n",
        "dat1 = [morewin,total1-morewin]\n",
        "colors=['blue','orange']\n",
        "\n",
        "fig = plt.figure(figsize =(10, 7))\n",
        "#plt.pie(data, labels = cars)\n",
        "\n",
        "plt.pie(dat1,labels=labels, colors=colors, startangle=90, shadow=True,explode=(0.1, 0.1), autopct='%0.8f%%')\n",
        "\n",
        "  "
      ],
      "execution_count": null,
      "outputs": []
    },
    {
      "cell_type": "markdown",
      "metadata": {
        "id": "-qEaAnuFJInv"
      },
      "source": [
        "YASH\n",
        "\n"
      ]
    },
    {
      "cell_type": "code",
      "metadata": {
        "id": "CSI29OGPJJ5Z"
      },
      "source": [
        ""
      ],
      "execution_count": null,
      "outputs": []
    },
    {
      "cell_type": "code",
      "metadata": {
        "id": "kHwIbJ0yPLi5"
      },
      "source": [
        "vk=df['batsman_runs'].where(df['batsman']=='V Kohli').groupby(df['bowling_team']).sum().sort_values(ascending=False)\n",
        "w=df['batsman_runs'].where(df['batsman']=='DA Warner').groupby(df['bowling_team']).sum().sort_values(ascending=False)\n",
        "s=df['batsman_runs'].where(df['batsman']=='SK Raina').groupby(df['bowling_team']).sum().sort_values(ascending=False)\n",
        "\n",
        "vk=vk[vk!=0]\n",
        "w=w[w!=0]\n",
        "s=s[s!=0]\n",
        "\n",
        "team1=vk.index\n",
        "runs1=vk.values\n",
        "\n",
        "team2=w.index\n",
        "runs2=w.values\n",
        "\n",
        "team3=s.index\n",
        "runs3=s.values\n",
        "\n"
      ],
      "execution_count": null,
      "outputs": []
    },
    {
      "cell_type": "code",
      "metadata": {
        "id": "HIddO957Wzp4"
      },
      "source": [
        "\n",
        "fig = go.Figure([go.Pie(labels=team1,values=runs1)])\n",
        "fig.update_traces(hoverinfo='label+percent', textinfo='value', textfont_size=15)\n",
        "fig.update_layout(title=\"Runs Scored by V Kohli against each team\",\n",
        "                  titlefont={'size': 25},\n",
        "                  )\n",
        "fig.show()\n",
        "print('\\n\\n\\n\\n')\n",
        "fig = go.Figure([go.Pie(labels=team2,values=runs2)])\n",
        "fig.update_traces(hoverinfo='label+percent', textinfo='value', textfont_size=15)\n",
        "fig.update_layout(title=\"Runs Scored by David Warner against each team\",\n",
        "                  titlefont={'size': 25},\n",
        "                  )\n",
        "fig.show()\n",
        "print('\\n\\n\\n\\n')\n",
        "fig = go.Figure([go.Pie(labels=team3,values=runs3)])\n",
        "fig.update_traces(hoverinfo='label+percent', textinfo='value', textfont_size=15)\n",
        "fig.update_layout(title=\"Runs Scored by Suresh Raina against each team\",\n",
        "                  titlefont={'size': 25},\n",
        "                  )\n",
        "fig.show()\n",
        "\n",
        "\n"
      ],
      "execution_count": null,
      "outputs": []
    },
    {
      "cell_type": "code",
      "metadata": {
        "id": "eaGkDnS1gshH"
      },
      "source": [
        "vk=df['is_wicket'].where(df['bowler']=='SL Malinga').groupby(df['batting_team']).sum().sort_values(ascending=False)\n",
        "w=df['is_wicket'].where(df['bowler']=='DJ Bravo').groupby(df['batting_team']).sum().sort_values(ascending=False)\n",
        "s=df['is_wicket'].where(df['bowler']=='A Mishra').groupby(df['batting_team']).sum().sort_values(ascending=False)\n",
        "\n",
        "\n",
        "vk=vk[vk!=0]\n",
        "w=w[w!=0]\n",
        "s=s[s!=0]\n",
        "\n",
        "team1=vk.index\n",
        "w1=vk.values\n",
        "\n",
        "team2=w.index\n",
        "w2=w.values\n",
        "\n",
        "team3=s.index\n",
        "w3=s.values\n",
        "\n",
        "fig = go.Figure([go.Pie(labels=team1,values=w1)])\n",
        "fig.update_traces(hoverinfo='label+percent', textinfo='value', textfont_size=15)\n",
        "fig.update_layout(title=\"Wickets taken by Malinga against each team\",\n",
        "                  titlefont={'size': 25},\n",
        "                  )\n",
        "fig.show()\n",
        "print('\\n\\n\\n\\n')\n",
        "fig = go.Figure([go.Pie(labels=team2,values=w2)])\n",
        "fig.update_traces(hoverinfo='label+percent', textinfo='value', textfont_size=15)\n",
        "fig.update_layout(title=\"Wickets taken by DJ Bravo against each team\",\n",
        "                  titlefont={'size': 25},\n",
        "                  )\n",
        "fig.show()\n",
        "print('\\n\\n\\n\\n')\n",
        "fig = go.Figure([go.Pie(labels=team3,values=w3)])\n",
        "fig.update_traces(hoverinfo='label+percent', textinfo='value', textfont_size=15)\n",
        "fig.update_layout(title=\"Wickets taken by A Mishra against each team\",\n",
        "                  titlefont={'size': 25},\n",
        "                  )\n",
        "fig.show()"
      ],
      "execution_count": null,
      "outputs": []
    },
    {
      "cell_type": "code",
      "metadata": {
        "id": "NZ3FGZwFsQsK"
      },
      "source": [
        "match_data = match_data.replace(['Rising Pune Supergiants'],'Rising Pune Supergiant')\n",
        "match_data = match_data.replace(['M Chinnaswamy Stadium'],'M.Chinnaswamy Stadium')\n",
        "\n",
        "team_1 = match_data['team1'].groupby(match_data['team1']).agg('count')\n",
        "team_2 = match_data['team2'].groupby(match_data['team2']).agg('count')\n",
        "total_matches=team_1+team_2\n",
        "total_matches=total_matches.sort_values(ascending=False)\n",
        "total_matches"
      ],
      "execution_count": null,
      "outputs": []
    },
    {
      "cell_type": "code",
      "metadata": {
        "id": "HR04x0wMxkNR"
      },
      "source": [
        "def lucky(match_data,team_name):\n",
        "    return match_data[match_data['winner']==team_name]['venue'].value_counts().nlargest(10)\n",
        "\n",
        "print(match_data['team1'].unique())\n",
        "\n",
        "mi=lucky(match_data,'Mumbai Indians')\n",
        "csk=lucky(match_data,'Chennai Super Kings')\n",
        "rcb=lucky(match_data,'Royal Challengers Bangalore')\n",
        "\n",
        "values = mi\n",
        "labels=mi.index\n",
        "fig = go.Figure(data=[go.Pie(labels=labels,values=values,hole=.3)])\n",
        "fig.update_traces(hoverinfo='label+percent', textinfo='value', textfont_size=20)\n",
        "fig.update_layout(title=\"Wins at different Venues for MI:\",\n",
        "                  titlefont={'size': 30},\n",
        "                  )\n",
        "fig.show()\n",
        "\n",
        "print('\\n\\n\\n')\n",
        "\n",
        "values = csk\n",
        "labels=csk.index\n",
        "fig = go.Figure(data=[go.Pie(labels=labels,values=values,hole=.3)])\n",
        "fig.update_traces(hoverinfo='label+percent', textinfo='value', textfont_size=20)\n",
        "fig.update_layout(title=\"Wins at different Venues for CSK:\",\n",
        "                  titlefont={'size': 30},\n",
        "                  )\n",
        "fig.show()\n",
        "\n",
        "print('\\n\\n\\n')\n",
        "\n",
        "values = rcb\n",
        "labels=rcb.index\n",
        "fig = go.Figure(data=[go.Pie(labels=labels,values=values,hole=.3)])\n",
        "fig.update_traces(hoverinfo='label+percent', textinfo='value', textfont_size=20)\n",
        "fig.update_layout(title=\"Wins at different Venues for RCB:\",\n",
        "                  titlefont={'size': 30},\n",
        "                  )\n",
        "fig.show()\n",
        "\n",
        "print('\\n\\n\\n')\n",
        "\n"
      ],
      "execution_count": null,
      "outputs": []
    },
    {
      "cell_type": "code",
      "metadata": {
        "id": "1mdkD9eV9kd8"
      },
      "source": [
        "match_data\n",
        "a=pd.Series(match_data.venue.values,index=match_data.id).to_dict()\n",
        "a"
      ],
      "execution_count": null,
      "outputs": []
    },
    {
      "cell_type": "code",
      "metadata": {
        "id": "X6om8g_xqMpg"
      },
      "source": [
        "dataset=[]\n",
        "labels=[]\n",
        "\n",
        "for i in range(len(match_data)):\n",
        "  temp1=[]\n",
        "  temp2=[]\n",
        "  for j in range(13):\n",
        "    temp1.append(0)\n",
        "    temp2.append(0)\n",
        "\n",
        "  if not match_data.loc[i][6] in playerTeam[match_data.loc[i][0]]:\n",
        "    continue\n",
        "  if not match_data.loc[i][7] in playerTeam[match_data.loc[i][0]]:\n",
        "    continue\n",
        "\n",
        "  for j in playerTeam[match_data.loc[i][0]][match_data.loc[i][6]]:\n",
        "    t=0\n",
        "    if j=='null':\n",
        "      continue\n",
        "    for k in data[j]:\n",
        "      temp1[t]+=data[j][k]\n",
        "      t+=1\n",
        "\n",
        "  for j in playerTeam[match_data.loc[i][0]][match_data.loc[i][7]]:\n",
        "    t=0\n",
        "    if j=='null':\n",
        "      continue\n",
        "    for k in data[j]:\n",
        "      temp2[t]+=data[j][k]\n",
        "      t+=1\n",
        "\n",
        "  temp=[]\n",
        "  l1=len(playerTeam[match_data.loc[i][0]][match_data.loc[i][6]])-1\n",
        "  l2=len(playerTeam[match_data.loc[i][0]][match_data.loc[i][7]])-1\n",
        "  for j in range(13):\n",
        "    if (j==2 or j==5 or j==7 or j==11 or j==12):\n",
        "      temp.append(temp1[j])\n",
        "      temp.append(temp2[j])\n",
        "\n",
        "  if match_data.loc[i][6]==match_data.loc[i][10]:\n",
        "    temp.append(1)\n",
        "  else:\n",
        "    temp.append(0)\n",
        "\n",
        "  dataset.append(temp)\n",
        "\n",
        "hm_df=pd.DataFrame(dataset)\n",
        "hm_df.dropna()"
      ],
      "execution_count": null,
      "outputs": []
    },
    {
      "cell_type": "code",
      "metadata": {
        "id": "JyV9gtM-tExW"
      },
      "source": [
        "print(hm_df[10].shape)"
      ],
      "execution_count": null,
      "outputs": []
    },
    {
      "cell_type": "code",
      "metadata": {
        "id": "yFS7PWHFqPww"
      },
      "source": [
        "fig, ax = plt.subplots(figsize=(35,35))\n",
        "sns.heatmap(hm_df.corr(),linecolor='white',linewidths=1,cmap='magma',annot=True)"
      ],
      "execution_count": null,
      "outputs": []
    },
    {
      "cell_type": "code",
      "metadata": {
        "id": "HyN6nP9xzRYf"
      },
      "source": [
        "dataset=[]\n",
        "labels=[]\n",
        "\n",
        "for i in range(len(match_data)):\n",
        "  temp1=[]\n",
        "  temp2=[]\n",
        "  for j in range(13):\n",
        "    temp1.append(0)\n",
        "    temp2.append(0)\n",
        "\n",
        "  if not match_data.loc[i][6] in playerTeam[match_data.loc[i][0]]:\n",
        "    continue\n",
        "  if not match_data.loc[i][7] in playerTeam[match_data.loc[i][0]]:\n",
        "    continue\n",
        "\n",
        "  for j in playerTeam[match_data.loc[i][0]][match_data.loc[i][6]]:\n",
        "    t=0\n",
        "    if j=='null':\n",
        "      continue\n",
        "    for k in data[j]:\n",
        "      temp1[t]+=data[j][k]\n",
        "      t+=1\n",
        "\n",
        "  for j in playerTeam[match_data.loc[i][0]][match_data.loc[i][7]]:\n",
        "    t=0\n",
        "    if j=='null':\n",
        "      continue\n",
        "    for k in data[j]:\n",
        "      temp2[t]+=data[j][k]\n",
        "      t+=1\n",
        "\n",
        "  temp=[]\n",
        "  l1=len(playerTeam[match_data.loc[i][0]][match_data.loc[i][6]])-1\n",
        "  l2=len(playerTeam[match_data.loc[i][0]][match_data.loc[i][7]])-1\n",
        "  for j in range(13):\n",
        "    if (j==2 or j==5 or j==7 or j==11 or j==12):\n",
        "      temp.append(temp1[j])\n",
        "      temp.append(temp2[j])\n",
        "\n",
        "  dataset.append(np.array(temp))\n",
        "\n",
        "  if match_data.loc[i][6]==match_data.loc[i][10]:\n",
        "    labels.append(1)\n",
        "  else:\n",
        "    labels.append(0)\n",
        "\n",
        "dataset=np.array(dataset)\n",
        "labels=np.array(labels)"
      ],
      "execution_count": 47,
      "outputs": []
    },
    {
      "cell_type": "code",
      "metadata": {
        "id": "G0-qF_wK0TS0"
      },
      "source": [
        "from sklearn.linear_model import SGDClassifier\n",
        "from sklearn.preprocessing import StandardScaler\n",
        "from sklearn.pipeline import make_pipeline"
      ],
      "execution_count": null,
      "outputs": []
    },
    {
      "cell_type": "code",
      "metadata": {
        "id": "VpUlWIoZ0r8A"
      },
      "source": [
        "from sklearn.model_selection import train_test_split\n",
        "\n",
        "data_train, data_test, labels_train, labels_test = train_test_split(dataset, labels, test_size=0.20, random_state=42)\n",
        "\n",
        "clf = SGDClassifier(max_iter=1000, tol=1e-3)\n",
        "clf.fit(data_train,labels_train)\n",
        "print(clf.score(data_test,labels_test))"
      ],
      "execution_count": null,
      "outputs": []
    },
    {
      "cell_type": "code",
      "metadata": {
        "id": "FWFfRKViz1do"
      },
      "source": [
        "from sklearn.naive_bayes import GaussianNB"
      ],
      "execution_count": null,
      "outputs": []
    },
    {
      "cell_type": "code",
      "metadata": {
        "id": "S6kOFzRT0M0h"
      },
      "source": [
        "from sklearn.model_selection import train_test_split\n",
        "\n",
        "data_train, data_test, labels_train, labels_test = train_test_split(dataset, labels, test_size=0.20, random_state=42)\n",
        "\n",
        "gnb = GaussianNB()\n",
        "gnb = gnb.fit(data_train,labels_train)\n",
        "pred = gnb.predict(data_test)\n",
        "print((labels_test==pred).sum()/labels_test.shape[0])"
      ],
      "execution_count": null,
      "outputs": []
    },
    {
      "cell_type": "code",
      "metadata": {
        "id": "0kVQ_7HL19td"
      },
      "source": [
        "from sklearn import tree"
      ],
      "execution_count": null,
      "outputs": []
    },
    {
      "cell_type": "code",
      "metadata": {
        "id": "4705oN7-2TSG"
      },
      "source": [
        "from sklearn.model_selection import train_test_split\n",
        "\n",
        "data_train, data_test, labels_train, labels_test = train_test_split(dataset, labels, test_size=0.20, random_state=42)\n",
        "\n",
        "clf = tree.DecisionTreeClassifier()\n",
        "clf.fit(data_train,labels_train)\n",
        "print(clf.score(data_test,labels_test))"
      ],
      "execution_count": null,
      "outputs": []
    },
    {
      "cell_type": "code",
      "metadata": {
        "id": "I0ERCv5D2sN2"
      },
      "source": [
        "from sklearn.ensemble import RandomForestClassifier\n",
        "from sklearn.datasets import make_classification"
      ],
      "execution_count": 48,
      "outputs": []
    },
    {
      "cell_type": "code",
      "metadata": {
        "id": "UAkgI44M2tgn"
      },
      "source": [
        "from sklearn.model_selection import train_test_split\n",
        "\n",
        "data_train, data_test, labels_train, labels_test = train_test_split(dataset, labels, test_size=0.20, random_state=42)\n",
        "\n",
        "clf = RandomForestClassifier(max_depth=3, random_state=0)\n",
        "clf.fit(data_train,labels_train)\n",
        "print(clf.score(data_test,labels_test))"
      ],
      "execution_count": null,
      "outputs": []
    },
    {
      "cell_type": "code",
      "metadata": {
        "id": "gvx9ClVr24O1"
      },
      "source": [
        "from sklearn.neural_network import MLPClassifier"
      ],
      "execution_count": null,
      "outputs": []
    },
    {
      "cell_type": "code",
      "metadata": {
        "id": "OfZHqcdQ36w4"
      },
      "source": [
        "from sklearn.model_selection import train_test_split\n",
        "\n",
        "data_train, data_test, labels_train, labels_test = train_test_split(dataset, labels, test_size=0.20, random_state=42)\n",
        "\n",
        "clf = MLPClassifier(random_state=1, max_iter=300)\n",
        "clf.fit(data_train,labels_train)\n",
        "print(clf.score(data_test,labels_test))"
      ],
      "execution_count": null,
      "outputs": []
    },
    {
      "cell_type": "code",
      "metadata": {
        "id": "9WAE8oHx7RRZ"
      },
      "source": [
        "from sklearn.pipeline import make_pipeline\n",
        "from sklearn.preprocessing import StandardScaler\n",
        "from sklearn.svm import SVC"
      ],
      "execution_count": null,
      "outputs": []
    },
    {
      "cell_type": "code",
      "metadata": {
        "id": "-CSRvOmP8DS7"
      },
      "source": [
        "from sklearn.model_selection import train_test_split\n",
        "\n",
        "data_train, data_test, labels_train, labels_test = train_test_split(dataset, labels, test_size=0.20, random_state=42)\n",
        "\n",
        "clf = SVC(gamma='auto')\n",
        "clf.fit(data_train,labels_train)\n",
        "print(clf.score(data_test,labels_test))"
      ],
      "execution_count": null,
      "outputs": []
    },
    {
      "cell_type": "code",
      "metadata": {
        "id": "UNF3kPGDkZS3"
      },
      "source": [
        ""
      ],
      "execution_count": null,
      "outputs": []
    },
    {
      "cell_type": "code",
      "metadata": {
        "id": "yF4UyGvZRdDJ"
      },
      "source": [
        "bowlerScore={}\n",
        "\n",
        "for player,details in df.groupby(\"bowler\"):\n",
        "  three=0\n",
        "  four=0\n",
        "  fifer=0\n",
        "  total=0\n",
        "  for match,match_details in details.groupby(\"id\"):\n",
        "    wickets = len(match_details.query('dismissal_kind in [\"caught\",\"bowled\",\"lbw\",\"stumped\",\"caught and bowled\"]'))\n",
        "    if wickets>=3:\n",
        "      three+=1\n",
        "    elif wickets>=4:\n",
        "      four+=1\n",
        "    elif wickets>=5:\n",
        "      fifer+=1\n",
        "\n",
        "    total+=wickets\n",
        "  score=three*4+four*10*fifer*50+total-data[player]['Economy']*0.001\n",
        "  bowlerScore.update({player:score})\n",
        "  \n",
        "\n"
      ],
      "execution_count": null,
      "outputs": []
    },
    {
      "cell_type": "code",
      "metadata": {
        "id": "wH_Bt4ogX0kK"
      },
      "source": [
        "\n",
        "bowlerScore\n",
        "from collections import OrderedDict\n",
        "\n",
        "bowlerScoref = OrderedDict(sorted(bowlerScore.items(), key=lambda kv: kv[1], reverse=True))"
      ],
      "execution_count": null,
      "outputs": []
    },
    {
      "cell_type": "code",
      "metadata": {
        "id": "jqtJawCBZrNn"
      },
      "source": [
        "bowlerScoref"
      ],
      "execution_count": null,
      "outputs": []
    },
    {
      "cell_type": "code",
      "metadata": {
        "id": "J4KOLkwdaPHi"
      },
      "source": [
        "print(len(bowlerScore))"
      ],
      "execution_count": null,
      "outputs": []
    },
    {
      "cell_type": "code",
      "metadata": {
        "id": "_nfHExU1gKym"
      },
      "source": [
        "batting_score={}\n",
        "for player,detail in df.groupby(\"batsman\"):\n",
        "  thirty=0\n",
        "  fifty=0\n",
        "  century=0\n",
        "  runs = data[player][\"Total_Runs\"]\n",
        "  boundary=data[player][\"Total_Boundries\"]\n",
        "  strike_rate=data[player][\"Striker_Rate\"]\n",
        "  thirty=0\n",
        "  fifty=0\n",
        "  century=0\n",
        "  for match,match_details in details.groupby(\"id\"):\n",
        "    match_score = sum(match_details[\"batsman_runs\"])\n",
        "    if match_score>=100:\n",
        "      century+=1\n",
        "    elif match_score>=50:\n",
        "      fifty+=1\n",
        "    elif match_score>=30:\n",
        "      thirty+=1\n",
        "  score=runs+5*boundary+2*strike_rate+4*thirty+7*fifty+15*century\n",
        "  batting_score[player]=score\n",
        "\n",
        "\n",
        "\n",
        "batting_score = OrderedDict(sorted(batting_score.items(), key=lambda kv: kv[1], reverse=True))\n",
        "print(batting_score)"
      ],
      "execution_count": null,
      "outputs": []
    },
    {
      "cell_type": "code",
      "metadata": {
        "id": "EJSBhDezffqw"
      },
      "source": [
        "Allrounders={}\n",
        "\n",
        "for player,x in data.items():\n",
        "  score=0\n",
        "  if player in bowlerScore:\n",
        "    if player in batting_score:\n",
        "      if batting_score[player]<7400:\n",
        "        if bowlerScore[player]>=7 and batting_score[player]>=1500:\n",
        "          score+=(bowlerScore[player]/11+batting_score[player]/200)\n",
        "  \n",
        "  # if player in batting_score:\n",
        "  #   if batting_score[player]<6500:\n",
        "  #     score+=batting_score[player]/200\n",
        "  if score!=0:\n",
        "    Allrounders.update({player:score})\n",
        "\n"
      ],
      "execution_count": null,
      "outputs": []
    },
    {
      "cell_type": "code",
      "metadata": {
        "id": "A3NxapZegWz7"
      },
      "source": [
        "Allrounders = OrderedDict(sorted(Allrounders.items(), key=lambda kv: kv[1], reverse=True))\n",
        "Allrounders"
      ],
      "execution_count": null,
      "outputs": []
    },
    {
      "cell_type": "code",
      "metadata": {
        "id": "V3zmISnsgOlS"
      },
      "source": [
        "WK=df.query('dismissal_kind == \"stumped\"')['fielder'].unique()\n",
        "print(WK)"
      ],
      "execution_count": null,
      "outputs": []
    },
    {
      "cell_type": "code",
      "metadata": {
        "id": "1QkXCeyU9kcr"
      },
      "source": [
        "for i in WK:\n",
        "  if i in batting_score:\n",
        "    print(i,batting_score[i])"
      ],
      "execution_count": null,
      "outputs": []
    },
    {
      "cell_type": "code",
      "metadata": {
        "id": "gFC4tHDm8O4Y"
      },
      "source": [
        "dream_team=['AB de Villiers','SR Watson','KA Pollard','SL Malinga','A Mishra','PP Chawla','DJ Bravo','V Kohli','S Dhawan','SK Warne','SK Raina']\n",
        "\n",
        "dt_feat=[]\n",
        "\n",
        "for i in range(len(dream_team)):\n",
        "  if i==0:\n",
        "    for j in data[dream_team[i]]:\n",
        "      dt_feat.append(data[dream_team[i]][j])\n",
        "  else:\n",
        "    k=0\n",
        "    for j in data[dream_team[i]]:\n",
        "      dt_feat[k]+=data[dream_team[i]][j]\n",
        "      k+=1"
      ],
      "execution_count": 54,
      "outputs": []
    },
    {
      "cell_type": "code",
      "metadata": {
        "id": "ecK9iuDV_DJB"
      },
      "source": [
        "trial_dataset=[]\n",
        "trial_labels=[]\n",
        "\n",
        "for i in range(len(match_data)):\n",
        "  temp1=[]\n",
        "  temp2=[]\n",
        "  for j in range(13):\n",
        "    temp1.append(0)\n",
        "    temp2.append(0)\n",
        "\n",
        "  if not match_data.loc[i][6] in playerTeam[match_data.loc[i][0]]:\n",
        "    continue\n",
        "  if not match_data.loc[i][7] in playerTeam[match_data.loc[i][0]]:\n",
        "    continue\n",
        "\n",
        "  for j in playerTeam[match_data.loc[i][0]][match_data.loc[i][6]]:\n",
        "    t=0\n",
        "    if j=='null':\n",
        "      continue\n",
        "    for k in data[j]:\n",
        "      temp1[t]+=data[j][k]\n",
        "      t+=1\n",
        "\n",
        "  for j in playerTeam[match_data.loc[i][0]][match_data.loc[i][7]]:\n",
        "    t=0\n",
        "    if j=='null':\n",
        "      continue\n",
        "    for k in data[j]:\n",
        "      temp2[t]+=data[j][k]\n",
        "      t+=1\n",
        "\n",
        "  temp=[]\n",
        "  for j in range(13):\n",
        "    if (j==2 or j==5 or j==7 or j==11 or j==12):\n",
        "      temp.append(dt_feat[j])\n",
        "      temp.append(temp1[j])\n",
        "\n",
        "  trial_dataset.append(np.array(temp))\n",
        "  trial_labels.append(1)\n",
        "\n",
        "  temp=[]\n",
        "  for j in range(13):\n",
        "    if (j==2 or j==5 or j==7 or j==11 or j==12):\n",
        "      temp.append(dt_feat[j])\n",
        "      temp.append(temp2[j])\n",
        "\n",
        "  trial_dataset.append(np.array(temp))\n",
        "  trial_labels.append(1)\n",
        "\n",
        "trial_dataset=np.array(trial_dataset)\n",
        "trial_labels=np.array(trial_labels)"
      ],
      "execution_count": 55,
      "outputs": []
    },
    {
      "cell_type": "code",
      "metadata": {
        "id": "JYy7V0YCBJ-7"
      },
      "source": [
        "from sklearn.ensemble import RandomForestClassifier\n",
        "from sklearn.datasets import make_classification"
      ],
      "execution_count": 56,
      "outputs": []
    },
    {
      "cell_type": "code",
      "metadata": {
        "id": "H9Qoxqh7BN-m"
      },
      "source": [
        "from sklearn.model_selection import train_test_split\n",
        "\n",
        "data_train, data_test, labels_train, labels_test = train_test_split(dataset, labels, test_size=0.20, random_state=42)\n",
        "\n",
        "clf = RandomForestClassifier(max_depth=3, random_state=0)\n",
        "clf.fit(data_train,labels_train)\n",
        "print(clf.score(data_test,labels_test))"
      ],
      "execution_count": null,
      "outputs": []
    },
    {
      "cell_type": "code",
      "metadata": {
        "id": "9mavjczGBvTv"
      },
      "source": [
        "print(clf.score(trial_dataset,trial_labels))"
      ],
      "execution_count": null,
      "outputs": []
    }
  ]
}